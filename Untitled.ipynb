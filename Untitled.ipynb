{
 "cells": [
  {
   "cell_type": "markdown",
   "metadata": {},
   "source": [
    "# 2022/5/23 文献调研\n",
    "\n",
    "本jupyternotebook作用是分析wos导出的excel文件(需要先另存为csv格式)，方便获取信息"
   ]
  },
  {
   "cell_type": "code",
   "execution_count": 289,
   "metadata": {},
   "outputs": [],
   "source": [
    "import pandas as pd"
   ]
  },
  {
   "cell_type": "markdown",
   "metadata": {},
   "source": [
    "## 1.读取csv文件"
   ]
  },
  {
   "cell_type": "code",
   "execution_count": 290,
   "metadata": {},
   "outputs": [],
   "source": [
    "df = pd.read_csv('savedrecs.csv')"
   ]
  },
  {
   "cell_type": "markdown",
   "metadata": {},
   "source": [
    "查看表格标题有哪些"
   ]
  },
  {
   "cell_type": "code",
   "execution_count": 291,
   "metadata": {},
   "outputs": [
    {
     "data": {
      "text/plain": [
       "Index(['Publication Type', 'Authors', 'Book Authors', 'Book Editors',\n",
       "       'Book Group Authors', 'Author Full Names', 'Book Author Full Names',\n",
       "       'Group Authors', 'Article Title', 'Source Title', 'Book Series Title',\n",
       "       'Book Series Subtitle', 'Language', 'Document Type', 'Conference Title',\n",
       "       'Conference Date', 'Conference Location', 'Conference Sponsor',\n",
       "       'Conference Host', 'Author Keywords', 'Keywords Plus', 'Abstract',\n",
       "       'Addresses', 'Affiliations', 'Reprint Addresses', 'Email Addresses',\n",
       "       'Researcher Ids', 'ORCIDs', 'Funding Orgs', 'Funding Name Preferred',\n",
       "       'Funding Text', 'Cited References', 'Cited Reference Count',\n",
       "       'Times Cited, WoS Core', 'Times Cited, All Databases',\n",
       "       '180 Day Usage Count', 'Since 2013 Usage Count', 'Publisher',\n",
       "       'Publisher City', 'Publisher Address', 'ISSN', 'eISSN', 'ISBN',\n",
       "       'Journal Abbreviation', 'Journal ISO Abbreviation', 'Publication Date',\n",
       "       'Publication Year', 'Volume', 'Issue', 'Part Number', 'Supplement',\n",
       "       'Special Issue', 'Meeting Abstract', 'Start Page', 'End Page',\n",
       "       'Article Number', 'DOI', 'Book DOI', 'Early Access Date',\n",
       "       'Number of Pages', 'WoS Categories', 'Web of Science Index',\n",
       "       'Research Areas', 'IDS Number', 'Pubmed Id', 'Open Access Designations',\n",
       "       'Highly Cited Status', 'Hot Paper Status', 'Date of Export',\n",
       "       'UT (Unique WOS ID)'],\n",
       "      dtype='object')"
      ]
     },
     "execution_count": 291,
     "metadata": {},
     "output_type": "execute_result"
    }
   ],
   "source": [
    "df.columns"
   ]
  },
  {
   "cell_type": "markdown",
   "metadata": {},
   "source": [
    "输出表格前两行查看"
   ]
  },
  {
   "cell_type": "code",
   "execution_count": 292,
   "metadata": {},
   "outputs": [
    {
     "data": {
      "text/html": [
       "<div>\n",
       "<style scoped>\n",
       "    .dataframe tbody tr th:only-of-type {\n",
       "        vertical-align: middle;\n",
       "    }\n",
       "\n",
       "    .dataframe tbody tr th {\n",
       "        vertical-align: top;\n",
       "    }\n",
       "\n",
       "    .dataframe thead th {\n",
       "        text-align: right;\n",
       "    }\n",
       "</style>\n",
       "<table border=\"1\" class=\"dataframe\">\n",
       "  <thead>\n",
       "    <tr style=\"text-align: right;\">\n",
       "      <th></th>\n",
       "      <th>Publication Type</th>\n",
       "      <th>Authors</th>\n",
       "      <th>Book Authors</th>\n",
       "      <th>Book Editors</th>\n",
       "      <th>Book Group Authors</th>\n",
       "      <th>Author Full Names</th>\n",
       "      <th>Book Author Full Names</th>\n",
       "      <th>Group Authors</th>\n",
       "      <th>Article Title</th>\n",
       "      <th>Source Title</th>\n",
       "      <th>...</th>\n",
       "      <th>WoS Categories</th>\n",
       "      <th>Web of Science Index</th>\n",
       "      <th>Research Areas</th>\n",
       "      <th>IDS Number</th>\n",
       "      <th>Pubmed Id</th>\n",
       "      <th>Open Access Designations</th>\n",
       "      <th>Highly Cited Status</th>\n",
       "      <th>Hot Paper Status</th>\n",
       "      <th>Date of Export</th>\n",
       "      <th>UT (Unique WOS ID)</th>\n",
       "    </tr>\n",
       "  </thead>\n",
       "  <tbody>\n",
       "    <tr>\n",
       "      <th>0</th>\n",
       "      <td>J</td>\n",
       "      <td>Bai, L; Cui, LX; Jiao, YH; Rossi, L; Hancock, ER</td>\n",
       "      <td>NaN</td>\n",
       "      <td>NaN</td>\n",
       "      <td>NaN</td>\n",
       "      <td>Bai, Lu; Cui, Lixin; Jiao, Yuhang; Rossi, Luca...</td>\n",
       "      <td>NaN</td>\n",
       "      <td>NaN</td>\n",
       "      <td>Learning Backtrackless Aligned-Spatial Graph C...</td>\n",
       "      <td>IEEE TRANSACTIONS ON PATTERN ANALYSIS AND MACH...</td>\n",
       "      <td>...</td>\n",
       "      <td>Computer Science, Artificial Intelligence; Eng...</td>\n",
       "      <td>Science Citation Index Expanded (SCI-EXPANDED)</td>\n",
       "      <td>Computer Science; Engineering</td>\n",
       "      <td>YC9LS</td>\n",
       "      <td>32750832.0</td>\n",
       "      <td>Green Accepted, Green Published, Green Submitted</td>\n",
       "      <td>Y</td>\n",
       "      <td>N</td>\n",
       "      <td>2022-05-23</td>\n",
       "      <td>WOS:000740006100019</td>\n",
       "    </tr>\n",
       "    <tr>\n",
       "      <th>1</th>\n",
       "      <td>J</td>\n",
       "      <td>Bolya, D; Zhou, C; Xiao, FY; Lee, YJ</td>\n",
       "      <td>NaN</td>\n",
       "      <td>NaN</td>\n",
       "      <td>NaN</td>\n",
       "      <td>Bolya, Daniel; Zhou, Chong; Xiao, Fanyi; Lee, ...</td>\n",
       "      <td>NaN</td>\n",
       "      <td>NaN</td>\n",
       "      <td>YOLACT plus plus Better Real-Time Instance Seg...</td>\n",
       "      <td>IEEE TRANSACTIONS ON PATTERN ANALYSIS AND MACH...</td>\n",
       "      <td>...</td>\n",
       "      <td>Computer Science, Artificial Intelligence; Eng...</td>\n",
       "      <td>Science Citation Index Expanded (SCI-EXPANDED)</td>\n",
       "      <td>Computer Science; Engineering</td>\n",
       "      <td>YC9LS</td>\n",
       "      <td>32755851.0</td>\n",
       "      <td>Green Submitted</td>\n",
       "      <td>Y</td>\n",
       "      <td>Y</td>\n",
       "      <td>2022-05-23</td>\n",
       "      <td>WOS:000740006100040</td>\n",
       "    </tr>\n",
       "  </tbody>\n",
       "</table>\n",
       "<p>2 rows × 70 columns</p>\n",
       "</div>"
      ],
      "text/plain": [
       "  Publication Type                                           Authors  \\\n",
       "0                J  Bai, L; Cui, LX; Jiao, YH; Rossi, L; Hancock, ER   \n",
       "1                J              Bolya, D; Zhou, C; Xiao, FY; Lee, YJ   \n",
       "\n",
       "   Book Authors  Book Editors  Book Group Authors  \\\n",
       "0           NaN           NaN                 NaN   \n",
       "1           NaN           NaN                 NaN   \n",
       "\n",
       "                                   Author Full Names  Book Author Full Names  \\\n",
       "0  Bai, Lu; Cui, Lixin; Jiao, Yuhang; Rossi, Luca...                     NaN   \n",
       "1  Bolya, Daniel; Zhou, Chong; Xiao, Fanyi; Lee, ...                     NaN   \n",
       "\n",
       "   Group Authors                                      Article Title  \\\n",
       "0            NaN  Learning Backtrackless Aligned-Spatial Graph C...   \n",
       "1            NaN  YOLACT plus plus Better Real-Time Instance Seg...   \n",
       "\n",
       "                                        Source Title  ...  \\\n",
       "0  IEEE TRANSACTIONS ON PATTERN ANALYSIS AND MACH...  ...   \n",
       "1  IEEE TRANSACTIONS ON PATTERN ANALYSIS AND MACH...  ...   \n",
       "\n",
       "                                      WoS Categories  \\\n",
       "0  Computer Science, Artificial Intelligence; Eng...   \n",
       "1  Computer Science, Artificial Intelligence; Eng...   \n",
       "\n",
       "                             Web of Science Index  \\\n",
       "0  Science Citation Index Expanded (SCI-EXPANDED)   \n",
       "1  Science Citation Index Expanded (SCI-EXPANDED)   \n",
       "\n",
       "                  Research Areas IDS Number   Pubmed Id  \\\n",
       "0  Computer Science; Engineering      YC9LS  32750832.0   \n",
       "1  Computer Science; Engineering      YC9LS  32755851.0   \n",
       "\n",
       "                           Open Access Designations  Highly Cited Status  \\\n",
       "0  Green Accepted, Green Published, Green Submitted                    Y   \n",
       "1                                   Green Submitted                    Y   \n",
       "\n",
       "   Hot Paper Status  Date of Export   UT (Unique WOS ID)  \n",
       "0                 N      2022-05-23  WOS:000740006100019  \n",
       "1                 Y      2022-05-23  WOS:000740006100040  \n",
       "\n",
       "[2 rows x 70 columns]"
      ]
     },
     "execution_count": 292,
     "metadata": {},
     "output_type": "execute_result"
    }
   ],
   "source": [
    "df.head(2)"
   ]
  },
  {
   "cell_type": "markdown",
   "metadata": {},
   "source": [
    "## 2.数据处理"
   ]
  },
  {
   "cell_type": "markdown",
   "metadata": {},
   "source": [
    "选择需要的列\n",
    "\n",
    "* Article Title\n",
    "* Author Keywords\n",
    "* Abstract\n",
    "* Times Cited, All Databases （被引数）\n",
    "* Publication Date\n",
    "* DOI"
   ]
  },
  {
   "cell_type": "code",
   "execution_count": 293,
   "metadata": {},
   "outputs": [
    {
     "data": {
      "text/html": [
       "<div>\n",
       "<style scoped>\n",
       "    .dataframe tbody tr th:only-of-type {\n",
       "        vertical-align: middle;\n",
       "    }\n",
       "\n",
       "    .dataframe tbody tr th {\n",
       "        vertical-align: top;\n",
       "    }\n",
       "\n",
       "    .dataframe thead th {\n",
       "        text-align: right;\n",
       "    }\n",
       "</style>\n",
       "<table border=\"1\" class=\"dataframe\">\n",
       "  <thead>\n",
       "    <tr style=\"text-align: right;\">\n",
       "      <th></th>\n",
       "      <th>Article Title</th>\n",
       "      <th>Author Keywords</th>\n",
       "      <th>Abstract</th>\n",
       "      <th>Times Cited, All Databases</th>\n",
       "      <th>Publication Date</th>\n",
       "      <th>Publication Year</th>\n",
       "      <th>DOI</th>\n",
       "    </tr>\n",
       "  </thead>\n",
       "  <tbody>\n",
       "    <tr>\n",
       "      <th>0</th>\n",
       "      <td>Learning Backtrackless Aligned-Spatial Graph C...</td>\n",
       "      <td>Convolution; Adaptation models; Transforms; Co...</td>\n",
       "      <td>In this paper, we develop a novel backtrackles...</td>\n",
       "      <td>16</td>\n",
       "      <td>FEB 1</td>\n",
       "      <td>2022</td>\n",
       "      <td>10.1109/TPAMI.2020.3011866</td>\n",
       "    </tr>\n",
       "    <tr>\n",
       "      <th>1</th>\n",
       "      <td>YOLACT plus plus Better Real-Time Instance Seg...</td>\n",
       "      <td>Instance segmentation; real time</td>\n",
       "      <td>We present a simple, fully-convolutional model...</td>\n",
       "      <td>35</td>\n",
       "      <td>FEB 1</td>\n",
       "      <td>2022</td>\n",
       "      <td>10.1109/TPAMI.2020.3014297</td>\n",
       "    </tr>\n",
       "  </tbody>\n",
       "</table>\n",
       "</div>"
      ],
      "text/plain": [
       "                                       Article Title  \\\n",
       "0  Learning Backtrackless Aligned-Spatial Graph C...   \n",
       "1  YOLACT plus plus Better Real-Time Instance Seg...   \n",
       "\n",
       "                                     Author Keywords  \\\n",
       "0  Convolution; Adaptation models; Transforms; Co...   \n",
       "1                   Instance segmentation; real time   \n",
       "\n",
       "                                            Abstract  \\\n",
       "0  In this paper, we develop a novel backtrackles...   \n",
       "1  We present a simple, fully-convolutional model...   \n",
       "\n",
       "   Times Cited, All Databases Publication Date  Publication Year  \\\n",
       "0                          16            FEB 1              2022   \n",
       "1                          35            FEB 1              2022   \n",
       "\n",
       "                          DOI  \n",
       "0  10.1109/TPAMI.2020.3011866  \n",
       "1  10.1109/TPAMI.2020.3014297  "
      ]
     },
     "execution_count": 293,
     "metadata": {},
     "output_type": "execute_result"
    }
   ],
   "source": [
    "df = df.loc[:, ['Article Title', 'Author Keywords', 'Abstract', 'Times Cited, All Databases', 'Publication Date', 'Publication Year', 'DOI']]\n",
    "df.head(2)"
   ]
  },
  {
   "cell_type": "markdown",
   "metadata": {},
   "source": [
    "时间列处理"
   ]
  },
  {
   "cell_type": "code",
   "execution_count": 294,
   "metadata": {},
   "outputs": [],
   "source": [
    "dicMonthMap = {'JAN': '1',\n",
    " 'FEB': '2',\n",
    " 'MAR': '3',\n",
    " 'APR': '4',\n",
    " 'MAY': '5',\n",
    " 'JUN': '6',\n",
    " 'JUL': '7',\n",
    " 'AUG': '8',\n",
    " 'SEP': '9',\n",
    " 'OCT': '10',\n",
    " 'NOV': '11',\n",
    " 'DEC': '12'}"
   ]
  },
  {
   "cell_type": "code",
   "execution_count": 295,
   "metadata": {},
   "outputs": [
    {
     "data": {
      "text/html": [
       "<div>\n",
       "<style scoped>\n",
       "    .dataframe tbody tr th:only-of-type {\n",
       "        vertical-align: middle;\n",
       "    }\n",
       "\n",
       "    .dataframe tbody tr th {\n",
       "        vertical-align: top;\n",
       "    }\n",
       "\n",
       "    .dataframe thead th {\n",
       "        text-align: right;\n",
       "    }\n",
       "</style>\n",
       "<table border=\"1\" class=\"dataframe\">\n",
       "  <thead>\n",
       "    <tr style=\"text-align: right;\">\n",
       "      <th></th>\n",
       "      <th>Article Title</th>\n",
       "      <th>Times Cited, All Databases</th>\n",
       "      <th>Publication Time</th>\n",
       "      <th>Author Keywords</th>\n",
       "      <th>Abstract</th>\n",
       "      <th>DOI</th>\n",
       "    </tr>\n",
       "  </thead>\n",
       "  <tbody>\n",
       "    <tr>\n",
       "      <th>0</th>\n",
       "      <td>Learning Backtrackless Aligned-Spatial Graph C...</td>\n",
       "      <td>16</td>\n",
       "      <td>2022/2/1</td>\n",
       "      <td>Convolution; Adaptation models; Transforms; Co...</td>\n",
       "      <td>In this paper, we develop a novel backtrackles...</td>\n",
       "      <td>10.1109/TPAMI.2020.3011866</td>\n",
       "    </tr>\n",
       "    <tr>\n",
       "      <th>1</th>\n",
       "      <td>YOLACT plus plus Better Real-Time Instance Seg...</td>\n",
       "      <td>35</td>\n",
       "      <td>2022/2/1</td>\n",
       "      <td>Instance segmentation; real time</td>\n",
       "      <td>We present a simple, fully-convolutional model...</td>\n",
       "      <td>10.1109/TPAMI.2020.3014297</td>\n",
       "    </tr>\n",
       "  </tbody>\n",
       "</table>\n",
       "</div>"
      ],
      "text/plain": [
       "                                       Article Title  \\\n",
       "0  Learning Backtrackless Aligned-Spatial Graph C...   \n",
       "1  YOLACT plus plus Better Real-Time Instance Seg...   \n",
       "\n",
       "   Times Cited, All Databases Publication Time  \\\n",
       "0                          16         2022/2/1   \n",
       "1                          35         2022/2/1   \n",
       "\n",
       "                                     Author Keywords  \\\n",
       "0  Convolution; Adaptation models; Transforms; Co...   \n",
       "1                   Instance segmentation; real time   \n",
       "\n",
       "                                            Abstract  \\\n",
       "0  In this paper, we develop a novel backtrackles...   \n",
       "1  We present a simple, fully-convolutional model...   \n",
       "\n",
       "                          DOI  \n",
       "0  10.1109/TPAMI.2020.3011866  \n",
       "1  10.1109/TPAMI.2020.3014297  "
      ]
     },
     "execution_count": 295,
     "metadata": {},
     "output_type": "execute_result"
    }
   ],
   "source": [
    "dfDate = df['Publication Date'].dropna().str.split(' ',expand=True)\n",
    "dfDate.columns = ['Month', 'Date']\n",
    "dfDate['Month'] = dfDate.apply(lambda x: dicMonthMap[x['Month']], axis=1)\n",
    "dfDate['Publication Time'] = dfDate.apply(lambda x: str(x['Month']) + '/' + str(x['Date']), axis=1)\n",
    "df = pd.merge(left=df, right=dfDate[['Publication Time']], left_index=True, right_index= True, how='outer')\n",
    "df['Publication Time'] = df.apply(lambda x: str(x['Publication Year']) + '/' + str(x['Publication Time']), axis=1)\n",
    "df = df[['Article Title', 'Times Cited, All Databases', 'Publication Time', 'Author Keywords', 'Abstract', 'DOI']]  # 调整列顺序\n",
    "\n",
    "df.head(2)"
   ]
  },
  {
   "cell_type": "markdown",
   "metadata": {},
   "source": [
    "## 3.保存修改"
   ]
  },
  {
   "cell_type": "code",
   "execution_count": 296,
   "metadata": {},
   "outputs": [],
   "source": [
    "df.to_csv('processed.csv', index=False)"
   ]
  },
  {
   "cell_type": "markdown",
   "metadata": {},
   "source": [
    "## 4.(可选项)翻译"
   ]
  },
  {
   "cell_type": "code",
   "execution_count": 297,
   "metadata": {},
   "outputs": [],
   "source": [
    "df[['Article Title', 'Abstract']].to_csv('en.csv', index=False)"
   ]
  },
  {
   "cell_type": "markdown",
   "metadata": {},
   "source": [
    "使用谷歌翻译等网站，翻译文件en.xlsx，并保存为ch.xlsx"
   ]
  },
  {
   "cell_type": "code",
   "execution_count": 299,
   "metadata": {},
   "outputs": [
    {
     "data": {
      "text/html": [
       "<div>\n",
       "<style scoped>\n",
       "    .dataframe tbody tr th:only-of-type {\n",
       "        vertical-align: middle;\n",
       "    }\n",
       "\n",
       "    .dataframe tbody tr th {\n",
       "        vertical-align: top;\n",
       "    }\n",
       "\n",
       "    .dataframe thead th {\n",
       "        text-align: right;\n",
       "    }\n",
       "</style>\n",
       "<table border=\"1\" class=\"dataframe\">\n",
       "  <thead>\n",
       "    <tr style=\"text-align: right;\">\n",
       "      <th></th>\n",
       "      <th>文章标题</th>\n",
       "      <th>抽象的</th>\n",
       "    </tr>\n",
       "  </thead>\n",
       "  <tbody>\n",
       "    <tr>\n",
       "      <th>0</th>\n",
       "      <td>学习用于图分类的无回溯对齐空间图卷积网络</td>\n",
       "      <td>在本文中，我们开发了一种新颖的无回溯对齐空间图卷积网络（BASGCN）模型来学习图分类的有效...</td>\n",
       "    </tr>\n",
       "    <tr>\n",
       "      <th>1</th>\n",
       "      <td>YOLACT plus plus 更好的实时实例分割</td>\n",
       "      <td>我们提出了一个简单的、完全卷积的实时（&gt; 30 fps）实例分割模型，该模型在单个 Tita...</td>\n",
       "    </tr>\n",
       "  </tbody>\n",
       "</table>\n",
       "</div>"
      ],
      "text/plain": [
       "                         文章标题  \\\n",
       "0        学习用于图分类的无回溯对齐空间图卷积网络   \n",
       "1  YOLACT plus plus 更好的实时实例分割   \n",
       "\n",
       "                                                 抽象的  \n",
       "0  在本文中，我们开发了一种新颖的无回溯对齐空间图卷积网络（BASGCN）模型来学习图分类的有效...  \n",
       "1  我们提出了一个简单的、完全卷积的实时（> 30 fps）实例分割模型，该模型在单个 Tita...  "
      ]
     },
     "execution_count": 299,
     "metadata": {},
     "output_type": "execute_result"
    }
   ],
   "source": [
    "dfCh = pd.read_csv('ch.csv')\n",
    "dfCh.head(2)"
   ]
  },
  {
   "cell_type": "code",
   "execution_count": 309,
   "metadata": {},
   "outputs": [
    {
     "name": "stdout",
     "output_type": "stream",
     "text": [
      "学习用于图分类的无回溯对齐空间图卷积网络\n",
      "YOLACT plus plus 更好的实时实例分割\n",
      "ManifoldNet：具有应用程序的流形值数据的深度神经网络\n",
      "P-CNN：用于细粒度视觉分类的基于部分的卷积神经网络\n",
      "用于人员重新识别的姿势引导表示学习\n",
      "使用条件 Wasserstein 生成对抗网络在 Hilbert 超球面上生成动态面部表情\n",
      "DeFusionNET：通过递归融合和细化判别性多尺度深度特征进行散焦模糊检测\n",
      "用于组活动识别的相干约束图 LSTM\n",
      "用于少镜头分割的先验引导特征富集网络\n",
      "Softmax 嵌入的增强不变量和实例扩展特征\n",
      "用于细粒度图像识别的分层深度点击特征预测\n",
      "用于细粒度图像描述的上下文感知视觉策略网络\n",
      "使用点相关的动态环境中的 RGB-D SLAM\n",
      "联合相机光谱响应选择和高光谱图像恢复\n",
      "基于事件的愿景：调查\n",
      "BDCN：用于感知边缘检测的双向级联网络\n",
      "AlignSeg：特征对齐的分割网络\n",
      "SimVODIS：同步视觉里程计、对象检测和实例分割\n",
      "多视图聚类：一种可扩展且无参数的二部图融合方法\n",
      "从未标记的视频中学习面部动作的表示\n",
      "索引网络\n",
      "MRA-Net：通过多模态关系注意网络改进 VQA\n",
      "用于数据聚类的鲁棒双随机图正则化矩阵分解\n",
      "Ball k-Means：无边界快速自适应聚类\n",
      "U2Fusion：一个统一的无监督图像融合网络\n",
      "用于基于骨架的动作识别的反馈图卷积网络\n",
      "迈向年龄不变的人脸识别\n",
      "用于半监督少镜头视频分类的标签独立记忆\n",
      "3D 点云的深度学习：调查\n",
      "深度神经网络的自我监督视觉特征学习：一项调查\n",
      "规范化流程：当前方法的介绍和回顾\n",
      "域自适应的最大密度散度\n",
      "单幅图像去雨：从基于模型到数据驱动及其他\n",
      "开放集识别的最新进展：一项调查\n",
      "目标检测中的不平衡问题：综述\n",
      "用于视觉识别的深度高分辨率表示学习\n",
      "图像超分辨率的深度学习：一项调查\n",
      "使用 Haze-Line 和新的定量数据集的水下单图像颜色恢复\n",
      "高效有效的正则化不完全多视图聚类\n",
      "定位、大小和计数：通过检测准确解决密集人群中的人员\n",
      "从点到部分：使用部分感知和部分聚合网络从点云进行 3D 对象检测\n",
      "深度 CNN 遇到全局协方差池：更好的表示和泛化\n",
      "学习适应记忆中的不变性以进行人员重新识别\n",
      "用于图像恢复等的基于物理的生成对抗模型\n",
      "用于图像恢复的残差密集网络\n",
      "带有事件摄像机的高速和高动态范围视频\n",
      "NWPU-Crowd：人群计数和本地化的大规模基准\n",
      "Cascade R-CNN：高质量的对象检测和实例分割\n",
      "通过跟踪中的深度强化学习进行动态超参数优化\n",
      "基于图像的 3D 对象重建：深度学习时代的最新技术和趋势\n",
      "GOT-10k：野外通用对象跟踪的大型高多样性基准\n",
      "具有高级和低级一致性的半监督语义分割\n",
      "用于多方向目标检测的水平边界框上的滑动顶点\n",
      "用于图像检索的深度多视图增强散列\n",
      "知识提炼：一项调查\n",
      "MEMC-Net：用于视频插值和增强的运动估计和运动补偿驱动的神经网络\n",
      "MFQE 2.0：压缩视频多帧质量增强的新方法\n",
      "无目标标签的域适应综述\n",
      "MTFH：用于高效跨模态检索的矩阵三因子散列框架\n",
      "具有稀疏编码启发的深度神经网络的视频异常检测\n",
      "用于光场重建的高维密集残差卷积神经网络\n",
      "用于人类交互识别的分层长短期并发记忆\n",
      "学习基于部分的卷积特征进行人员重新识别\n",
      "深度学习时代的显着性预测：成功与局限\n",
      "Res2Net：一种新的多尺度骨干架构\n",
      "Mask TextSpotter：一种端到端的可训练神经网络，用于发现具有任意形状的文本\n",
      "用于千兆像素组织病理学图像分析的神经图像压缩\n",
      "OpenPose：使用部分亲和场的实时多人 2D 姿势估计\n",
      "DPANet：用于 RGB-D 显着目标检测的深度潜能感知门控注意网络\n",
      "EnlightenGAN：无需配对监督的深度光增强\n",
      "用于高度不平衡数据分类的多集特征学习\n",
      "深度 SAR 成像和运动补偿\n",
      "图像恢复的同时保真和正则化学习\n",
      "一种用于高光谱图像分类的监督分割网络\n",
      "用于多对象跟踪的深度亲和网络\n",
      "重新审视深度学习时代的视频显着性预测\n",
      "CGNet：用于语义分割的轻量级上下文引导网络\n",
      "JCS：通过联合分类和分割的可解释 COVID-19 诊断系统\n",
      "高光谱图像超分辨率的空间光谱结构稀疏低秩表示\n",
      "自监督深度相关跟踪\n",
      "用于光学遥感图像显着目标检测的密集注意力流体网络\n",
      "具有校正和对齐的鲁棒低阶张量恢复\n"
     ]
    }
   ],
   "source": [
    "for title in dfCh['文章标题'].values.tolist():\n",
    "    print(title)"
   ]
  },
  {
   "cell_type": "code",
   "execution_count": null,
   "metadata": {},
   "outputs": [],
   "source": []
  },
  {
   "cell_type": "code",
   "execution_count": null,
   "metadata": {},
   "outputs": [],
   "source": []
  },
  {
   "cell_type": "code",
   "execution_count": null,
   "metadata": {},
   "outputs": [],
   "source": []
  },
  {
   "cell_type": "code",
   "execution_count": null,
   "metadata": {},
   "outputs": [],
   "source": []
  },
  {
   "cell_type": "code",
   "execution_count": null,
   "metadata": {},
   "outputs": [],
   "source": []
  }
 ],
 "metadata": {
  "interpreter": {
   "hash": "e3c24579e779a75c3924c5df5f34faed17f0fb91e6c8d13085019209e64251c9"
  },
  "kernelspec": {
   "display_name": "Python 3.8.5 ('base')",
   "language": "python",
   "name": "python3"
  },
  "language_info": {
   "codemirror_mode": {
    "name": "ipython",
    "version": 3
   },
   "file_extension": ".py",
   "mimetype": "text/x-python",
   "name": "python",
   "nbconvert_exporter": "python",
   "pygments_lexer": "ipython3",
   "version": "3.8.5"
  }
 },
 "nbformat": 4,
 "nbformat_minor": 4
}
