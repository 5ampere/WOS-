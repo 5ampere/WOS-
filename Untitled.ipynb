{
 "cells": [
  {
   "cell_type": "markdown",
   "metadata": {},
   "source": [
    "# 2022/5/23 文献调研\n",
    "\n",
    "本jupyternotebook作用是分析wos导出的excel文件(需要先另存为csv格式)，方便获取信息"
   ]
  },
  {
   "cell_type": "code",
   "execution_count": 1,
   "metadata": {},
   "outputs": [],
   "source": [
    "import pandas as pd"
   ]
  },
  {
   "cell_type": "markdown",
   "metadata": {},
   "source": [
    "## 1.读取csv文件"
   ]
  },
  {
   "cell_type": "code",
   "execution_count": 2,
   "metadata": {},
   "outputs": [],
   "source": [
    "df = pd.read_csv('savedrecs.csv')"
   ]
  },
  {
   "cell_type": "markdown",
   "metadata": {},
   "source": [
    "查看表格标题有哪些"
   ]
  },
  {
   "cell_type": "code",
   "execution_count": 3,
   "metadata": {},
   "outputs": [
    {
     "data": {
      "text/plain": [
       "Index(['Publication Type', 'Authors', 'Book Authors', 'Group Authors',\n",
       "       'Book Group Authors', 'Researcher Ids', 'ORCIDs', 'Book Editors',\n",
       "       'Author - Arabic', 'Article Title', 'Article Title - SciELO',\n",
       "       'Article Title - SciELO.1', 'Article Title - Chinese',\n",
       "       'Article Title - Russian', 'Patent Number', 'Patent Assignee',\n",
       "       'Source Title - Arabic', 'Source Title', 'Source Title - Korean',\n",
       "       'Book Series Title', 'Book Series Subtitle', 'Volume', 'Issue',\n",
       "       'Special Issue', 'Meeting Abstract', 'Start Page', 'End Page',\n",
       "       'Article Number', 'DOI', 'Book DOI', 'Early Access Date', 'Supplement',\n",
       "       'Publication Date', 'Publication Year', 'Abstract',\n",
       "       'Abstract - Foreign', 'Abstract - English Transliteration ',\n",
       "       'Abstract - Foreign.1', 'Abstract - Korean', 'Conference Title',\n",
       "       'Conference Date', 'Conference Sponsor', 'Conference Location',\n",
       "       'Times Cited, WoS Core', 'Times Cited, CSCD ', 'Times Cited, RSCI',\n",
       "       'Times Cited, ARCI', 'Times Cited, BCI', 'Times Cited, SCIELO',\n",
       "       'Times Cited, All Databases', '180 Day Usage Count',\n",
       "       'Since 2013 Usage Count', 'ISSN', 'eISSN', 'ISBN', 'UT (Unique ID)',\n",
       "       'Pubmed Id', 'Unnamed: 57'],\n",
       "      dtype='object')"
      ]
     },
     "execution_count": 3,
     "metadata": {},
     "output_type": "execute_result"
    }
   ],
   "source": [
    "df.columns"
   ]
  },
  {
   "cell_type": "markdown",
   "metadata": {},
   "source": [
    "输出表格前两行查看"
   ]
  },
  {
   "cell_type": "code",
   "execution_count": 4,
   "metadata": {},
   "outputs": [
    {
     "data": {
      "text/html": [
       "<div>\n",
       "<style scoped>\n",
       "    .dataframe tbody tr th:only-of-type {\n",
       "        vertical-align: middle;\n",
       "    }\n",
       "\n",
       "    .dataframe tbody tr th {\n",
       "        vertical-align: top;\n",
       "    }\n",
       "\n",
       "    .dataframe thead th {\n",
       "        text-align: right;\n",
       "    }\n",
       "</style>\n",
       "<table border=\"1\" class=\"dataframe\">\n",
       "  <thead>\n",
       "    <tr style=\"text-align: right;\">\n",
       "      <th></th>\n",
       "      <th>Publication Type</th>\n",
       "      <th>Authors</th>\n",
       "      <th>Book Authors</th>\n",
       "      <th>Group Authors</th>\n",
       "      <th>Book Group Authors</th>\n",
       "      <th>Researcher Ids</th>\n",
       "      <th>ORCIDs</th>\n",
       "      <th>Book Editors</th>\n",
       "      <th>Author - Arabic</th>\n",
       "      <th>Article Title</th>\n",
       "      <th>...</th>\n",
       "      <th>Times Cited, SCIELO</th>\n",
       "      <th>Times Cited, All Databases</th>\n",
       "      <th>180 Day Usage Count</th>\n",
       "      <th>Since 2013 Usage Count</th>\n",
       "      <th>ISSN</th>\n",
       "      <th>eISSN</th>\n",
       "      <th>ISBN</th>\n",
       "      <th>UT (Unique ID)</th>\n",
       "      <th>Pubmed Id</th>\n",
       "      <th>Unnamed: 57</th>\n",
       "    </tr>\n",
       "  </thead>\n",
       "  <tbody>\n",
       "    <tr>\n",
       "      <th>0</th>\n",
       "      <td>J</td>\n",
       "      <td>Ibtehaz, Nabil; Rahman, M. Sohel</td>\n",
       "      <td>NaN</td>\n",
       "      <td>NaN</td>\n",
       "      <td>NaN</td>\n",
       "      <td>Ibtehaz, Nabil/AAX-6846-2021; Rahman, Mohammad...</td>\n",
       "      <td>Ibtehaz, Nabil/0000-0003-3625-5972; Rahman, Mo...</td>\n",
       "      <td>NaN</td>\n",
       "      <td>NaN</td>\n",
       "      <td>MultiResUNet : Rethinking the U-Net architectu...</td>\n",
       "      <td>...</td>\n",
       "      <td>0</td>\n",
       "      <td>369</td>\n",
       "      <td>NaN</td>\n",
       "      <td>NaN</td>\n",
       "      <td>0893-6080</td>\n",
       "      <td>1879-2782</td>\n",
       "      <td>NaN</td>\n",
       "      <td>WOS:000500922700008</td>\n",
       "      <td>31536901.0</td>\n",
       "      <td>NaN</td>\n",
       "    </tr>\n",
       "    <tr>\n",
       "      <th>1</th>\n",
       "      <td>J</td>\n",
       "      <td>Isensee, Fabian; Jaeger, Paul F.; Kohl, Simon ...</td>\n",
       "      <td>NaN</td>\n",
       "      <td>NaN</td>\n",
       "      <td>NaN</td>\n",
       "      <td>Maier-Hein, Klaus/M-6250-2016</td>\n",
       "      <td>Maier-Hein, Klaus/0000-0002-6626-2463</td>\n",
       "      <td>NaN</td>\n",
       "      <td>NaN</td>\n",
       "      <td>nnU-Net: a self-configuring method for deep le...</td>\n",
       "      <td>...</td>\n",
       "      <td>0</td>\n",
       "      <td>309</td>\n",
       "      <td>NaN</td>\n",
       "      <td>NaN</td>\n",
       "      <td>1548-7091</td>\n",
       "      <td>1548-7105</td>\n",
       "      <td>NaN</td>\n",
       "      <td>WOS:000599000100001</td>\n",
       "      <td>33288961.0</td>\n",
       "      <td>NaN</td>\n",
       "    </tr>\n",
       "  </tbody>\n",
       "</table>\n",
       "<p>2 rows × 58 columns</p>\n",
       "</div>"
      ],
      "text/plain": [
       "  Publication Type                                            Authors  \\\n",
       "0                J                   Ibtehaz, Nabil; Rahman, M. Sohel   \n",
       "1                J  Isensee, Fabian; Jaeger, Paul F.; Kohl, Simon ...   \n",
       "\n",
       "   Book Authors  Group Authors Book Group Authors  \\\n",
       "0           NaN            NaN                NaN   \n",
       "1           NaN            NaN                NaN   \n",
       "\n",
       "                                      Researcher Ids  \\\n",
       "0  Ibtehaz, Nabil/AAX-6846-2021; Rahman, Mohammad...   \n",
       "1                      Maier-Hein, Klaus/M-6250-2016   \n",
       "\n",
       "                                              ORCIDs Book Editors  \\\n",
       "0  Ibtehaz, Nabil/0000-0003-3625-5972; Rahman, Mo...          NaN   \n",
       "1              Maier-Hein, Klaus/0000-0002-6626-2463          NaN   \n",
       "\n",
       "   Author - Arabic                                      Article Title  ...  \\\n",
       "0              NaN  MultiResUNet : Rethinking the U-Net architectu...  ...   \n",
       "1              NaN  nnU-Net: a self-configuring method for deep le...  ...   \n",
       "\n",
       "   Times Cited, SCIELO  Times Cited, All Databases  180 Day Usage Count  \\\n",
       "0                    0                         369                  NaN   \n",
       "1                    0                         309                  NaN   \n",
       "\n",
       "   Since 2013 Usage Count       ISSN      eISSN  ISBN       UT (Unique ID)  \\\n",
       "0                     NaN  0893-6080  1879-2782   NaN  WOS:000500922700008   \n",
       "1                     NaN  1548-7091  1548-7105   NaN  WOS:000599000100001   \n",
       "\n",
       "    Pubmed Id Unnamed: 57  \n",
       "0  31536901.0         NaN  \n",
       "1  33288961.0         NaN  \n",
       "\n",
       "[2 rows x 58 columns]"
      ]
     },
     "execution_count": 4,
     "metadata": {},
     "output_type": "execute_result"
    }
   ],
   "source": [
    "df.head(2)"
   ]
  },
  {
   "cell_type": "markdown",
   "metadata": {},
   "source": [
    "## 2.数据处理"
   ]
  },
  {
   "cell_type": "markdown",
   "metadata": {},
   "source": [
    "选择需要的列\n",
    "\n",
    "* Article Title\n",
    "* Abstract\n",
    "* Times Cited, All Databases （被引数）\n",
    "* Publication Date\n",
    "* Publication Year\n",
    "* DOI"
   ]
  },
  {
   "cell_type": "code",
   "execution_count": 5,
   "metadata": {},
   "outputs": [
    {
     "data": {
      "text/html": [
       "<div>\n",
       "<style scoped>\n",
       "    .dataframe tbody tr th:only-of-type {\n",
       "        vertical-align: middle;\n",
       "    }\n",
       "\n",
       "    .dataframe tbody tr th {\n",
       "        vertical-align: top;\n",
       "    }\n",
       "\n",
       "    .dataframe thead th {\n",
       "        text-align: right;\n",
       "    }\n",
       "</style>\n",
       "<table border=\"1\" class=\"dataframe\">\n",
       "  <thead>\n",
       "    <tr style=\"text-align: right;\">\n",
       "      <th></th>\n",
       "      <th>Article Title</th>\n",
       "      <th>Abstract</th>\n",
       "      <th>Times Cited, All Databases</th>\n",
       "      <th>Publication Date</th>\n",
       "      <th>Publication Year</th>\n",
       "      <th>DOI</th>\n",
       "    </tr>\n",
       "  </thead>\n",
       "  <tbody>\n",
       "    <tr>\n",
       "      <th>0</th>\n",
       "      <td>MultiResUNet : Rethinking the U-Net architectu...</td>\n",
       "      <td>In recent years Deep Learning has brought abou...</td>\n",
       "      <td>369</td>\n",
       "      <td>JAN 2020</td>\n",
       "      <td>2020</td>\n",
       "      <td>10.1016/j.neunet.2019.08.025</td>\n",
       "    </tr>\n",
       "    <tr>\n",
       "      <th>1</th>\n",
       "      <td>nnU-Net: a self-configuring method for deep le...</td>\n",
       "      <td>nnU-Net is a deep learning-based image segment...</td>\n",
       "      <td>309</td>\n",
       "      <td>FEB 2021</td>\n",
       "      <td>2021</td>\n",
       "      <td>10.1038/s41592-020-01008-z</td>\n",
       "    </tr>\n",
       "  </tbody>\n",
       "</table>\n",
       "</div>"
      ],
      "text/plain": [
       "                                       Article Title  \\\n",
       "0  MultiResUNet : Rethinking the U-Net architectu...   \n",
       "1  nnU-Net: a self-configuring method for deep le...   \n",
       "\n",
       "                                            Abstract  \\\n",
       "0  In recent years Deep Learning has brought abou...   \n",
       "1  nnU-Net is a deep learning-based image segment...   \n",
       "\n",
       "   Times Cited, All Databases Publication Date  Publication Year  \\\n",
       "0                         369         JAN 2020              2020   \n",
       "1                         309         FEB 2021              2021   \n",
       "\n",
       "                            DOI  \n",
       "0  10.1016/j.neunet.2019.08.025  \n",
       "1    10.1038/s41592-020-01008-z  "
      ]
     },
     "execution_count": 5,
     "metadata": {},
     "output_type": "execute_result"
    }
   ],
   "source": [
    "df = df.loc[:, ['Article Title', 'Abstract', 'Times Cited, All Databases', 'Publication Date', 'Publication Year', 'DOI']]\n",
    "df.head(2)"
   ]
  },
  {
   "cell_type": "markdown",
   "metadata": {},
   "source": [
    "时间列处理"
   ]
  },
  {
   "cell_type": "code",
   "execution_count": 6,
   "metadata": {},
   "outputs": [
    {
     "data": {
      "text/html": [
       "<div>\n",
       "<style scoped>\n",
       "    .dataframe tbody tr th:only-of-type {\n",
       "        vertical-align: middle;\n",
       "    }\n",
       "\n",
       "    .dataframe tbody tr th {\n",
       "        vertical-align: top;\n",
       "    }\n",
       "\n",
       "    .dataframe thead th {\n",
       "        text-align: right;\n",
       "    }\n",
       "</style>\n",
       "<table border=\"1\" class=\"dataframe\">\n",
       "  <thead>\n",
       "    <tr style=\"text-align: right;\">\n",
       "      <th></th>\n",
       "      <th>Article Title</th>\n",
       "      <th>Times Cited, All Databases</th>\n",
       "      <th>Publication Time</th>\n",
       "      <th>Abstract</th>\n",
       "      <th>DOI</th>\n",
       "    </tr>\n",
       "  </thead>\n",
       "  <tbody>\n",
       "    <tr>\n",
       "      <th>0</th>\n",
       "      <td>MultiResUNet : Rethinking the U-Net architectu...</td>\n",
       "      <td>369</td>\n",
       "      <td>2020 JAN 2020</td>\n",
       "      <td>In recent years Deep Learning has brought abou...</td>\n",
       "      <td>10.1016/j.neunet.2019.08.025</td>\n",
       "    </tr>\n",
       "    <tr>\n",
       "      <th>1</th>\n",
       "      <td>nnU-Net: a self-configuring method for deep le...</td>\n",
       "      <td>309</td>\n",
       "      <td>2021 FEB 2021</td>\n",
       "      <td>nnU-Net is a deep learning-based image segment...</td>\n",
       "      <td>10.1038/s41592-020-01008-z</td>\n",
       "    </tr>\n",
       "  </tbody>\n",
       "</table>\n",
       "</div>"
      ],
      "text/plain": [
       "                                       Article Title  \\\n",
       "0  MultiResUNet : Rethinking the U-Net architectu...   \n",
       "1  nnU-Net: a self-configuring method for deep le...   \n",
       "\n",
       "   Times Cited, All Databases Publication Time  \\\n",
       "0                         369    2020 JAN 2020   \n",
       "1                         309    2021 FEB 2021   \n",
       "\n",
       "                                            Abstract  \\\n",
       "0  In recent years Deep Learning has brought abou...   \n",
       "1  nnU-Net is a deep learning-based image segment...   \n",
       "\n",
       "                            DOI  \n",
       "0  10.1016/j.neunet.2019.08.025  \n",
       "1    10.1038/s41592-020-01008-z  "
      ]
     },
     "execution_count": 6,
     "metadata": {},
     "output_type": "execute_result"
    }
   ],
   "source": [
    "df['Publication Time'] = df['Publication Year'].astype('str') + ' ' + df['Publication Date']\n",
    "df = df[['Article Title', 'Times Cited, All Databases', 'Publication Time', 'Abstract', 'DOI']]  # 调整列顺序\n",
    "\n",
    "df.head(2)"
   ]
  },
  {
   "cell_type": "markdown",
   "metadata": {},
   "source": [
    "## 3.保存修改"
   ]
  },
  {
   "cell_type": "code",
   "execution_count": 7,
   "metadata": {},
   "outputs": [],
   "source": [
    "df.to_csv('processed.csv', index=False)"
   ]
  },
  {
   "cell_type": "markdown",
   "metadata": {},
   "source": [
    "## 4.(可选项)翻译"
   ]
  },
  {
   "cell_type": "code",
   "execution_count": 8,
   "metadata": {},
   "outputs": [],
   "source": [
    "df[['Article Title', 'Abstract']].to_csv('en.csv', index=False)"
   ]
  },
  {
   "cell_type": "markdown",
   "metadata": {},
   "source": [
    "使用谷歌翻译等网站，翻译文件en.xlsx，并保存为ch.csv （UTF-8格式）"
   ]
  },
  {
   "cell_type": "code",
   "execution_count": 9,
   "metadata": {},
   "outputs": [
    {
     "data": {
      "text/html": [
       "<div>\n",
       "<style scoped>\n",
       "    .dataframe tbody tr th:only-of-type {\n",
       "        vertical-align: middle;\n",
       "    }\n",
       "\n",
       "    .dataframe tbody tr th {\n",
       "        vertical-align: top;\n",
       "    }\n",
       "\n",
       "    .dataframe thead th {\n",
       "        text-align: right;\n",
       "    }\n",
       "</style>\n",
       "<table border=\"1\" class=\"dataframe\">\n",
       "  <thead>\n",
       "    <tr style=\"text-align: right;\">\n",
       "      <th></th>\n",
       "      <th>文章标题</th>\n",
       "      <th>抽象的</th>\n",
       "    </tr>\n",
       "  </thead>\n",
       "  <tbody>\n",
       "    <tr>\n",
       "      <th>0</th>\n",
       "      <td>MultiResUNet：重新思考用于多模态生物医学图像分割的 U-Net 架构</td>\n",
       "      <td>近年来，深度学习在医学图像分割方面取得了突破。在这方面，U-Net 一直是医学影像界最流行的...</td>\n",
       "    </tr>\n",
       "    <tr>\n",
       "      <th>1</th>\n",
       "      <td>nnU-Net：一种基于深度学习的生物医学图像分割的自配置方法</td>\n",
       "      <td>nnU-Net 是一种基于深度学习的图像分割方法，可自动配置自身以完成各种生物和医学图像分割...</td>\n",
       "    </tr>\n",
       "  </tbody>\n",
       "</table>\n",
       "</div>"
      ],
      "text/plain": [
       "                                       文章标题  \\\n",
       "0  MultiResUNet：重新思考用于多模态生物医学图像分割的 U-Net 架构   \n",
       "1           nnU-Net：一种基于深度学习的生物医学图像分割的自配置方法   \n",
       "\n",
       "                                                 抽象的  \n",
       "0  近年来，深度学习在医学图像分割方面取得了突破。在这方面，U-Net 一直是医学影像界最流行的...  \n",
       "1  nnU-Net 是一种基于深度学习的图像分割方法，可自动配置自身以完成各种生物和医学图像分割...  "
      ]
     },
     "execution_count": 9,
     "metadata": {},
     "output_type": "execute_result"
    }
   ],
   "source": [
    "dfCh = pd.read_csv('ch.csv')\n",
    "dfCh.head(2)"
   ]
  },
  {
   "cell_type": "code",
   "execution_count": 10,
   "metadata": {},
   "outputs": [
    {
     "data": {
      "text/html": [
       "<div>\n",
       "<style scoped>\n",
       "    .dataframe tbody tr th:only-of-type {\n",
       "        vertical-align: middle;\n",
       "    }\n",
       "\n",
       "    .dataframe tbody tr th {\n",
       "        vertical-align: top;\n",
       "    }\n",
       "\n",
       "    .dataframe thead th {\n",
       "        text-align: right;\n",
       "    }\n",
       "</style>\n",
       "<table border=\"1\" class=\"dataframe\">\n",
       "  <thead>\n",
       "    <tr style=\"text-align: right;\">\n",
       "      <th></th>\n",
       "      <th>Article Title</th>\n",
       "      <th>Times Cited, All Databases</th>\n",
       "      <th>Publication Time</th>\n",
       "      <th>Abstract</th>\n",
       "      <th>DOI</th>\n",
       "    </tr>\n",
       "  </thead>\n",
       "  <tbody>\n",
       "    <tr>\n",
       "      <th>0</th>\n",
       "      <td>MultiResUNet：重新思考用于多模态生物医学图像分割的 U-Net 架构</td>\n",
       "      <td>369</td>\n",
       "      <td>2020 JAN 2020</td>\n",
       "      <td>近年来，深度学习在医学图像分割方面取得了突破。在这方面，U-Net 一直是医学影像界最流行的...</td>\n",
       "      <td>10.1016/j.neunet.2019.08.025</td>\n",
       "    </tr>\n",
       "    <tr>\n",
       "      <th>1</th>\n",
       "      <td>nnU-Net：一种基于深度学习的生物医学图像分割的自配置方法</td>\n",
       "      <td>309</td>\n",
       "      <td>2021 FEB 2021</td>\n",
       "      <td>nnU-Net 是一种基于深度学习的图像分割方法，可自动配置自身以完成各种生物和医学图像分割...</td>\n",
       "      <td>10.1038/s41592-020-01008-z</td>\n",
       "    </tr>\n",
       "  </tbody>\n",
       "</table>\n",
       "</div>"
      ],
      "text/plain": [
       "                              Article Title  Times Cited, All Databases  \\\n",
       "0  MultiResUNet：重新思考用于多模态生物医学图像分割的 U-Net 架构                         369   \n",
       "1           nnU-Net：一种基于深度学习的生物医学图像分割的自配置方法                         309   \n",
       "\n",
       "  Publication Time                                           Abstract  \\\n",
       "0    2020 JAN 2020  近年来，深度学习在医学图像分割方面取得了突破。在这方面，U-Net 一直是医学影像界最流行的...   \n",
       "1    2021 FEB 2021  nnU-Net 是一种基于深度学习的图像分割方法，可自动配置自身以完成各种生物和医学图像分割...   \n",
       "\n",
       "                            DOI  \n",
       "0  10.1016/j.neunet.2019.08.025  \n",
       "1    10.1038/s41592-020-01008-z  "
      ]
     },
     "execution_count": 10,
     "metadata": {},
     "output_type": "execute_result"
    }
   ],
   "source": [
    "df[['Article Title', 'Abstract']] = dfCh\n",
    "df.to_csv('processed-ch.csv',encoding='utf_8_sig', index=False)\n",
    "df.head(2).to_csv('processed-ch.csv', index=False)\n",
    "\n",
    "df.head(2)"
   ]
  },
  {
   "cell_type": "markdown",
   "metadata": {},
   "source": [
    "## 5.(可选项)挑选感兴趣的论文"
   ]
  },
  {
   "cell_type": "code",
   "execution_count": 19,
   "metadata": {},
   "outputs": [],
   "source": [
    "df = df.iloc[[0, 3, 8, 12, 14, 16, 18, 20, 24, 26, 30, 34, 38, 44, 47, 56, 57, 58, 61, 65, 67, 70, 75, 77, 82, 83, 90, 95], :]"
   ]
  },
  {
   "cell_type": "code",
   "execution_count": 21,
   "metadata": {},
   "outputs": [],
   "source": [
    "df.to_csv('final.csv', encoding='utf_8_sig', index=False)"
   ]
  },
  {
   "cell_type": "code",
   "execution_count": null,
   "metadata": {},
   "outputs": [],
   "source": []
  }
 ],
 "metadata": {
  "interpreter": {
   "hash": "e3c24579e779a75c3924c5df5f34faed17f0fb91e6c8d13085019209e64251c9"
  },
  "kernelspec": {
   "display_name": "Python 3.8.5 ('base')",
   "language": "python",
   "name": "python3"
  },
  "language_info": {
   "codemirror_mode": {
    "name": "ipython",
    "version": 3
   },
   "file_extension": ".py",
   "mimetype": "text/x-python",
   "name": "python",
   "nbconvert_exporter": "python",
   "pygments_lexer": "ipython3",
   "version": "3.8.5"
  }
 },
 "nbformat": 4,
 "nbformat_minor": 4
}
